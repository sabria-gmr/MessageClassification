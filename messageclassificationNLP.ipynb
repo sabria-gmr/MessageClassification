{
  "cells": [
    {
      "cell_type": "markdown",
      "metadata": {
        "id": "aUKyNmn_knPR"
      },
      "source": [
        "**Work done by : *GOUMIRI sabria* and *IDRI aya***"
      ]
    },
    {
      "cell_type": "code",
      "execution_count": null,
      "metadata": {
        "id": "5DHMI-8n8C0P"
      },
      "outputs": [],
      "source": [
        "# This Python 3 environment comes with many helpful analytics libraries installed\n",
        "# It is defined by the kaggle/python Docker image: https://github.com/kaggle/docker-python\n",
        "# For example, here's several helpful packages to load\n",
        "\n",
        "import numpy as np # linear algebra\n",
        "import pandas as pd # data processing, CSV file I/O (e.g. pd.read_csv)\n",
        "\n",
        "# Input data files are available in the read-only \"../input/\" directory\n",
        "# For example, running this (by clicking run or pressing Shift+Enter) will list all files under the input directory\n",
        "\n",
        "import os\n",
        "for dirname, _, filenames in os.walk('/kaggle/input'):\n",
        "    for filename in filenames:\n",
        "        print(os.path.join(dirname, filename))\n",
        "\n",
        "# You can write up to 20GB to the current directory (/kaggle/working/) that gets preserved as output when you create a version using \"Save & Run All\"\n",
        "# You can also write temporary files to /kaggle/temp/, but they won't be saved outside of the current session"
      ]
    },
    {
      "cell_type": "code",
      "execution_count": null,
      "metadata": {
        "colab": {
          "base_uri": "https://localhost:8080/"
        },
        "id": "sYSkDJNM8C0S",
        "outputId": "6e221e7f-59bb-4026-df27-6a06800a852f"
      },
      "outputs": [
        {
          "output_type": "stream",
          "name": "stdout",
          "text": [
            "Requirement already satisfied: nltk in /usr/local/lib/python3.10/dist-packages (3.9.1)\n",
            "Requirement already satisfied: click in /usr/local/lib/python3.10/dist-packages (from nltk) (8.1.7)\n",
            "Requirement already satisfied: joblib in /usr/local/lib/python3.10/dist-packages (from nltk) (1.4.2)\n",
            "Requirement already satisfied: regex>=2021.8.3 in /usr/local/lib/python3.10/dist-packages (from nltk) (2024.9.11)\n",
            "Requirement already satisfied: tqdm in /usr/local/lib/python3.10/dist-packages (from nltk) (4.66.6)\n"
          ]
        }
      ],
      "source": [
        "!pip install nltk"
      ]
    },
    {
      "cell_type": "code",
      "execution_count": null,
      "metadata": {
        "colab": {
          "base_uri": "https://localhost:8080/"
        },
        "id": "KBRiTr2E8C0S",
        "outputId": "5ab32a77-febf-4f13-d720-42f1394ea837"
      },
      "outputs": [
        {
          "output_type": "stream",
          "name": "stderr",
          "text": [
            "[nltk_data] Downloading package punkt to /root/nltk_data...\n",
            "[nltk_data]   Package punkt is already up-to-date!\n",
            "[nltk_data] Downloading package stopwords to /root/nltk_data...\n",
            "[nltk_data]   Package stopwords is already up-to-date!\n",
            "[nltk_data] Downloading package wordnet to /root/nltk_data...\n",
            "[nltk_data]   Package wordnet is already up-to-date!\n",
            "[nltk_data] Downloading package omw-1.4 to /root/nltk_data...\n",
            "[nltk_data]   Package omw-1.4 is already up-to-date!\n"
          ]
        },
        {
          "output_type": "execute_result",
          "data": {
            "text/plain": [
              "True"
            ]
          },
          "metadata": {},
          "execution_count": 39
        }
      ],
      "source": [
        "import pandas as pd\n",
        "import numpy as np\n",
        "import matplotlib.pyplot as plt\n",
        "import seaborn as sns\n",
        "import re\n",
        "import nltk\n",
        "from nltk.corpus import stopwords\n",
        "from nltk.tokenize import word_tokenize\n",
        "from nltk.stem import WordNetLemmatizer\n",
        "from sklearn.feature_extraction.text import CountVectorizer, TfidfVectorizer\n",
        "from sklearn.preprocessing import LabelEncoder\n",
        "from sklearn.model_selection import train_test_split, cross_val_score\n",
        "from sklearn.pipeline import Pipeline\n",
        "from sklearn.naive_bayes import MultinomialNB\n",
        "from sklearn.metrics import (\n",
        "    precision_score, recall_score, classification_report,\n",
        "    accuracy_score, f1_score, confusion_matrix\n",
        ")\n",
        "from matplotlib.colors import ListedColormap\n",
        "\n",
        "\n",
        "nltk.download('punkt')      # Tokenization\n",
        "nltk.download('stopwords')  # Stopwords\n",
        "nltk.download('wordnet')    # Lemmatizer\n",
        "nltk.download('omw-1.4')    # Multilingue (optionnel)\n"
      ]
    },
    {
      "cell_type": "code",
      "execution_count": null,
      "metadata": {
        "colab": {
          "base_uri": "https://localhost:8080/"
        },
        "id": "ui-towW68C0V",
        "outputId": "af2de9a2-6eb3-48a9-c233-e7e31e476645"
      },
      "outputs": [
        {
          "output_type": "stream",
          "name": "stdout",
          "text": [
            "<class 'pandas.core.frame.DataFrame'>\n",
            "RangeIndex: 4482 entries, 0 to 4481\n",
            "Data columns (total 2 columns):\n",
            " #   Column   Non-Null Count  Dtype \n",
            "---  ------   --------------  ----- \n",
            " 0   label    4482 non-null   object\n",
            " 1   Message  4482 non-null   object\n",
            "dtypes: object(2)\n",
            "memory usage: 70.2+ KB\n"
          ]
        }
      ],
      "source": [
        "data=pd.read_csv(\"/content/MyBalancedSpamClassificationDataset.csv\")\n",
        "data.info()"
      ]
    },
    {
      "cell_type": "code",
      "execution_count": null,
      "metadata": {
        "colab": {
          "base_uri": "https://localhost:8080/",
          "height": 805
        },
        "id": "MU0Xaxi18C0V",
        "outputId": "7584425b-85a4-4c22-be4f-96ec85231f5f"
      },
      "outputs": [
        {
          "output_type": "stream",
          "name": "stderr",
          "text": [
            "<ipython-input-41-74e92b42dc31>:4: FutureWarning: \n",
            "\n",
            "Passing `palette` without assigning `hue` is deprecated and will be removed in v0.14.0. Assign the `x` variable to `hue` and set `legend=False` for the same effect.\n",
            "\n",
            "  fg = sns.countplot(x=data[\"label\"], palette=cols)\n"
          ]
        },
        {
          "output_type": "display_data",
          "data": {
            "text/plain": [
              "<Figure size 1200x800 with 1 Axes>"
            ],
            "image/png": "[encoded data removed]"
          },
          "metadata": {}
        }
      ],
      "source": [
        "\n",
        "cols = [\"#ADD8E6\", \"#D8BFD8\"]\n",
        "\n",
        "plt.figure(figsize=(12, 8))\n",
        "fg = sns.countplot(x=data[\"label\"], palette=cols)\n",
        "fg.set_title(\"Count Plot of Classes\", color=\"#4B0082\")\n",
        "fg.set_xlabel(\"Classes\", color=\"#4B0082\")\n",
        "fg.set_ylabel(\"Number of Data points\", color=\"#4B0082\")\n",
        "\n",
        "plt.show()\n"
      ]
    },
    {
      "cell_type": "markdown",
      "metadata": {
        "id": "bvqXl1oK8C0W"
      },
      "source": [
        "**Note:** From the above countplot the data is 100% balanced.\n",
        "\n",
        "<a id=\"3.1\"></a>\n",
        "# <p style=\"background-color:#D8BFD8;font-family:newtimeroman;color:#00008B;text-align:center;font-size:120%;border-radius:20px 60px;\">FEATURE ENGINEERING</p>\n",
        "For the purpose of data exploration, I am creating new features\n",
        "\n",
        "* No_of_Characters: Number of characters in the text message\n",
        "* No_of_Words: Number of words in the text message\n",
        "* No_of_sentence: Number of sentences in the text message  "
      ]
    },
    {
      "cell_type": "markdown",
      "metadata": {
        "id": "Rz442Iyhkjx4"
      },
      "source": []
    },
    {
      "cell_type": "code",
      "execution_count": null,
      "metadata": {
        "colab": {
          "base_uri": "https://localhost:8080/",
          "height": 178
        },
        "id": "ABmc7xQd8C0Y",
        "outputId": "f3f5342f-c9a1-4de4-e6c6-aaab2079d7be"
      },
      "outputs": [
        {
          "output_type": "stream",
          "name": "stderr",
          "text": [
            "[nltk_data] Downloading package punkt_tab to /root/nltk_data...\n",
            "[nltk_data]   Package punkt_tab is already up-to-date!\n"
          ]
        },
        {
          "output_type": "execute_result",
          "data": {
            "text/plain": [
              "                   count        mean        std  min   25%    50%    75%  \\\n",
              "No_of_Characters  4482.0  104.814145  58.047242  2.0  50.0  119.0  152.0   \n",
              "No_of_Words       4482.0   22.698126  12.681026  1.0  12.0   25.0   31.0   \n",
              "No_of_sentence    4482.0    2.432842   1.723739  1.0   1.0    2.0    3.0   \n",
              "\n",
              "                    max  \n",
              "No_of_Characters  910.0  \n",
              "No_of_Words       220.0  \n",
              "No_of_sentence     38.0  "
            ],
            "text/html": [
              "\n",
              "  <div id=\"df-766def94-b0ff-4b46-8602-0fb4d34fd6f3\" class=\"colab-df-container\">\n",
              "    <div>\n",
              "<style scoped>\n",
              "    .dataframe tbody tr th:only-of-type {\n",
              "        vertical-align: middle;\n",
              "    }\n",
              "\n",
              "    .dataframe tbody tr th {\n",
              "        vertical-align: top;\n",
              "    }\n",
              "\n",
              "    .dataframe thead th {\n",
              "        text-align: right;\n",
              "    }\n",
              "</style>\n",
              "<table border=\"1\" class=\"dataframe\">\n",
              "  <thead>\n",
              "    <tr style=\"text-align: right;\">\n",
              "      <th></th>\n",
              "      <th>count</th>\n",
              "      <th>mean</th>\n",
              "      <th>std</th>\n",
              "      <th>min</th>\n",
              "      <th>25%</th>\n",
              "      <th>50%</th>\n",
              "      <th>75%</th>\n",
              "      <th>max</th>\n",
              "    </tr>\n",
              "  </thead>\n",
              "  <tbody>\n",
              "    <tr>\n",
              "      <th>No_of_Characters</th>\n",
              "      <td>4482.0</td>\n",
              "      <td>104.814145</td>\n",
              "      <td>58.047242</td>\n",
              "      <td>2.0</td>\n",
              "      <td>50.0</td>\n",
              "      <td>119.0</td>\n",
              "      <td>152.0</td>\n",
              "      <td>910.0</td>\n",
              "    </tr>\n",
              "    <tr>\n",
              "      <th>No_of_Words</th>\n",
              "      <td>4482.0</td>\n",
              "      <td>22.698126</td>\n",
              "      <td>12.681026</td>\n",
              "      <td>1.0</td>\n",
              "      <td>12.0</td>\n",
              "      <td>25.0</td>\n",
              "      <td>31.0</td>\n",
              "      <td>220.0</td>\n",
              "    </tr>\n",
              "    <tr>\n",
              "      <th>No_of_sentence</th>\n",
              "      <td>4482.0</td>\n",
              "      <td>2.432842</td>\n",
              "      <td>1.723739</td>\n",
              "      <td>1.0</td>\n",
              "      <td>1.0</td>\n",
              "      <td>2.0</td>\n",
              "      <td>3.0</td>\n",
              "      <td>38.0</td>\n",
              "    </tr>\n",
              "  </tbody>\n",
              "</table>\n",
              "</div>\n",
              "    <div class=\"colab-df-buttons\">\n",
              "\n",
              "  <div class=\"colab-df-container\">\n",
              "    <button class=\"colab-df-convert\" onclick=\"convertToInteractive('df-766def94-b0ff-4b46-8602-0fb4d34fd6f3')\"\n",
              "            title=\"Convert this dataframe to an interactive table.\"\n",
              "            style=\"display:none;\">\n",
              "\n",
              "  <svg xmlns=\"http://www.w3.org/2000/svg\" height=\"24px\" viewBox=\"0 -960 960 960\">\n",
              "    <path d=\"M120-120v-720h720v720H120Zm60-500h600v-160H180v160Zm220 220h160v-160H400v160Zm0 220h160v-160H400v160ZM180-400h160v-160H180v160Zm440 0h160v-160H620v160ZM180-180h160v-160H180v160Zm440 0h160v-160H620v160Z\"/>\n",
              "  </svg>\n",
              "    </button>\n",
              "\n",
              "  <style>\n",
              "    .colab-df-container {\n",
              "      display:flex;\n",
              "      gap: 12px;\n",
              "    }\n",
              "\n",
              "    .colab-df-convert {\n",
              "      background-color: #E8F0FE;\n",
              "      border: none;\n",
              "      border-radius: 50%;\n",
              "      cursor: pointer;\n",
              "      display: none;\n",
              "      fill: #1967D2;\n",
              "      height: 32px;\n",
              "      padding: 0 0 0 0;\n",
              "      width: 32px;\n",
              "    }\n",
              "\n",
              "    .colab-df-convert:hover {\n",
              "      background-color: #E2EBFA;\n",
              "      box-shadow: 0px 1px 2px rgba(60, 64, 67, 0.3), 0px 1px 3px 1px rgba(60, 64, 67, 0.15);\n",
              "      fill: #174EA6;\n",
              "    }\n",
              "\n",
              "    .colab-df-buttons div {\n",
              "      margin-bottom: 4px;\n",
              "    }\n",
              "\n",
              "    [theme=dark] .colab-df-convert {\n",
              "      background-color: #3B4455;\n",
              "      fill: #D2E3FC;\n",
              "    }\n",
              "\n",
              "    [theme=dark] .colab-df-convert:hover {\n",
              "      background-color: #434B5C;\n",
              "      box-shadow: 0px 1px 3px 1px rgba(0, 0, 0, 0.15);\n",
              "      filter: drop-shadow(0px 1px 2px rgba(0, 0, 0, 0.3));\n",
              "      fill: #FFFFFF;\n",
              "    }\n",
              "  </style>\n",
              "\n",
              "    <script>\n",
              "      const buttonEl =\n",
              "        document.querySelector('#df-766def94-b0ff-4b46-8602-0fb4d34fd6f3 button.colab-df-convert');\n",
              "      buttonEl.style.display =\n",
              "        google.colab.kernel.accessAllowed ? 'block' : 'none';\n",
              "\n",
              "      async function convertToInteractive(key) {\n",
              "        const element = document.querySelector('#df-766def94-b0ff-4b46-8602-0fb4d34fd6f3');\n",
              "        const dataTable =\n",
              "          await google.colab.kernel.invokeFunction('convertToInteractive',\n",
              "                                                    [key], {});\n",
              "        if (!dataTable) return;\n",
              "\n",
              "        const docLinkHtml = 'Like what you see? Visit the ' +\n",
              "          '<a target=\"_blank\" href=https://colab.research.google.com/notebooks/data_table.ipynb>data table notebook</a>'\n",
              "          + ' to learn more about interactive tables.';\n",
              "        element.innerHTML = '';\n",
              "        dataTable['output_type'] = 'display_data';\n",
              "        await google.colab.output.renderOutput(dataTable, element);\n",
              "        const docLink = document.createElement('div');\n",
              "        docLink.innerHTML = docLinkHtml;\n",
              "        element.appendChild(docLink);\n",
              "      }\n",
              "    </script>\n",
              "  </div>\n",
              "\n",
              "\n",
              "<div id=\"df-3b8b91fc-da31-4786-991a-555d9579d01e\">\n",
              "  <button class=\"colab-df-quickchart\" onclick=\"quickchart('df-3b8b91fc-da31-4786-991a-555d9579d01e')\"\n",
              "            title=\"Suggest charts\"\n",
              "            style=\"display:none;\">\n",
              "\n",
              "<svg xmlns=\"http://www.w3.org/2000/svg\" height=\"24px\"viewBox=\"0 0 24 24\"\n",
              "     width=\"24px\">\n",
              "    <g>\n",
              "        <path d=\"M19 3H5c-1.1 0-2 .9-2 2v14c0 1.1.9 2 2 2h14c1.1 0 2-.9 2-2V5c0-1.1-.9-2-2-2zM9 17H7v-7h2v7zm4 0h-2V7h2v10zm4 0h-2v-4h2v4z\"/>\n",
              "    </g>\n",
              "</svg>\n",
              "  </button>\n",
              "\n",
              "<style>\n",
              "  .colab-df-quickchart {\n",
              "      --bg-color: #E8F0FE;\n",
              "      --fill-color: #1967D2;\n",
              "      --hover-bg-color: #E2EBFA;\n",
              "      --hover-fill-color: #174EA6;\n",
              "      --disabled-fill-color: #AAA;\n",
              "      --disabled-bg-color: #DDD;\n",
              "  }\n",
              "\n",
              "  [theme=dark] .colab-df-quickchart {\n",
              "      --bg-color: #3B4455;\n",
              "      --fill-color: #D2E3FC;\n",
              "      --hover-bg-color: #434B5C;\n",
              "      --hover-fill-color: #FFFFFF;\n",
              "      --disabled-bg-color: #3B4455;\n",
              "      --disabled-fill-color: #666;\n",
              "  }\n",
              "\n",
              "  .colab-df-quickchart {\n",
              "    background-color: var(--bg-color);\n",
              "    border: none;\n",
              "    border-radius: 50%;\n",
              "    cursor: pointer;\n",
              "    display: none;\n",
              "    fill: var(--fill-color);\n",
              "    height: 32px;\n",
              "    padding: 0;\n",
              "    width: 32px;\n",
              "  }\n",
              "\n",
              "  .colab-df-quickchart:hover {\n",
              "    background-color: var(--hover-bg-color);\n",
              "    box-shadow: 0 1px 2px rgba(60, 64, 67, 0.3), 0 1px 3px 1px rgba(60, 64, 67, 0.15);\n",
              "    fill: var(--button-hover-fill-color);\n",
              "  }\n",
              "\n",
              "  .colab-df-quickchart-complete:disabled,\n",
              "  .colab-df-quickchart-complete:disabled:hover {\n",
              "    background-color: var(--disabled-bg-color);\n",
              "    fill: var(--disabled-fill-color);\n",
              "    box-shadow: none;\n",
              "  }\n",
              "\n",
              "  .colab-df-spinner {\n",
              "    border: 2px solid var(--fill-color);\n",
              "    border-color: transparent;\n",
              "    border-bottom-color: var(--fill-color);\n",
              "    animation:\n",
              "      spin 1s steps(1) infinite;\n",
              "  }\n",
              "\n",
              "  @keyframes spin {\n",
              "    0% {\n",
              "      border-color: transparent;\n",
              "      border-bottom-color: var(--fill-color);\n",
              "      border-left-color: var(--fill-color);\n",
              "    }\n",
              "    20% {\n",
              "      border-color: transparent;\n",
              "      border-left-color: var(--fill-color);\n",
              "      border-top-color: var(--fill-color);\n",
              "    }\n",
              "    30% {\n",
              "      border-color: transparent;\n",
              "      border-left-color: var(--fill-color);\n",
              "      border-top-color: var(--fill-color);\n",
              "      border-right-color: var(--fill-color);\n",
              "    }\n",
              "    40% {\n",
              "      border-color: transparent;\n",
              "      border-right-color: var(--fill-color);\n",
              "      border-top-color: var(--fill-color);\n",
              "    }\n",
              "    60% {\n",
              "      border-color: transparent;\n",
              "      border-right-color: var(--fill-color);\n",
              "    }\n",
              "    80% {\n",
              "      border-color: transparent;\n",
              "      border-right-color: var(--fill-color);\n",
              "      border-bottom-color: var(--fill-color);\n",
              "    }\n",
              "    90% {\n",
              "      border-color: transparent;\n",
              "      border-bottom-color: var(--fill-color);\n",
              "    }\n",
              "  }\n",
              "</style>\n",
              "\n",
              "  <script>\n",
              "    async function quickchart(key) {\n",
              "      const quickchartButtonEl =\n",
              "        document.querySelector('#' + key + ' button');\n",
              "      quickchartButtonEl.disabled = true;  // To prevent multiple clicks.\n",
              "      quickchartButtonEl.classList.add('colab-df-spinner');\n",
              "      try {\n",
              "        const charts = await google.colab.kernel.invokeFunction(\n",
              "            'suggestCharts', [key], {});\n",
              "      } catch (error) {\n",
              "        console.error('Error during call to suggestCharts:', error);\n",
              "      }\n",
              "      quickchartButtonEl.classList.remove('colab-df-spinner');\n",
              "      quickchartButtonEl.classList.add('colab-df-quickchart-complete');\n",
              "    }\n",
              "    (() => {\n",
              "      let quickchartButtonEl =\n",
              "        document.querySelector('#df-3b8b91fc-da31-4786-991a-555d9579d01e button');\n",
              "      quickchartButtonEl.style.display =\n",
              "        google.colab.kernel.accessAllowed ? 'block' : 'none';\n",
              "    })();\n",
              "  </script>\n",
              "</div>\n",
              "\n",
              "    </div>\n",
              "  </div>\n"
            ],
            "application/vnd.google.colaboratory.intrinsic+json": {
              "type": "dataframe",
              "summary": "{\n  \"name\": \"data\",\n  \"rows\": 3,\n  \"fields\": [\n    {\n      \"column\": \"count\",\n      \"properties\": {\n        \"dtype\": \"number\",\n        \"std\": 0.0,\n        \"min\": 4482.0,\n        \"max\": 4482.0,\n        \"num_unique_values\": 1,\n        \"samples\": [\n          4482.0\n        ],\n        \"semantic_type\": \"\",\n        \"description\": \"\"\n      }\n    },\n    {\n      \"column\": \"mean\",\n      \"properties\": {\n        \"dtype\": \"number\",\n        \"std\": 54.2150864488035,\n        \"min\": 2.432842481035252,\n        \"max\": 104.81414547077198,\n        \"num_unique_values\": 3,\n        \"samples\": [\n          104.81414547077198\n        ],\n        \"semantic_type\": \"\",\n        \"description\": \"\"\n      }\n    },\n    {\n      \"column\": \"std\",\n      \"properties\": {\n        \"dtype\": \"number\",\n        \"std\": 29.862163015017103,\n        \"min\": 1.7237388189368261,\n        \"max\": 58.04724196120863,\n        \"num_unique_values\": 3,\n        \"samples\": [\n          58.04724196120863\n        ],\n        \"semantic_type\": \"\",\n        \"description\": \"\"\n      }\n    },\n    {\n      \"column\": \"min\",\n      \"properties\": {\n        \"dtype\": \"number\",\n        \"std\": 0.5773502691896257,\n        \"min\": 1.0,\n        \"max\": 2.0,\n        \"num_unique_values\": 2,\n        \"samples\": [\n          1.0\n        ],\n        \"semantic_type\": \"\",\n        \"description\": \"\"\n      }\n    },\n    {\n      \"column\": \"25%\",\n      \"properties\": {\n        \"dtype\": \"number\",\n        \"std\": 25.709920264364882,\n        \"min\": 1.0,\n        \"max\": 50.0,\n        \"num_unique_values\": 3,\n        \"samples\": [\n          50.0\n        ],\n        \"semantic_type\": \"\",\n        \"description\": \"\"\n      }\n    },\n    {\n      \"column\": \"50%\",\n      \"properties\": {\n        \"dtype\": \"number\",\n        \"std\": 61.98655768255997,\n        \"min\": 2.0,\n        \"max\": 119.0,\n        \"num_unique_values\": 3,\n        \"samples\": [\n          119.0\n        ],\n        \"semantic_type\": \"\",\n        \"description\": \"\"\n      }\n    },\n    {\n      \"column\": \"75%\",\n      \"properties\": {\n        \"dtype\": \"number\",\n        \"std\": 79.18964578781748,\n        \"min\": 3.0,\n        \"max\": 152.0,\n        \"num_unique_values\": 3,\n        \"samples\": [\n          152.0\n        ],\n        \"semantic_type\": \"\",\n        \"description\": \"\"\n      }\n    },\n    {\n      \"column\": \"max\",\n      \"properties\": {\n        \"dtype\": \"number\",\n        \"std\": 460.00144927307934,\n        \"min\": 38.0,\n        \"max\": 910.0,\n        \"num_unique_values\": 3,\n        \"samples\": [\n          910.0\n        ],\n        \"semantic_type\": \"\",\n        \"description\": \"\"\n      }\n    }\n  ]\n}"
            }
          },
          "metadata": {},
          "execution_count": 42
        }
      ],
      "source": [
        "#Adding a column of numbers of charachters,words and sentences in each msg\n",
        "nltk.download('punkt_tab')\n",
        "\n",
        "data[\"No_of_Characters\"] = data[\"Message\"].apply(len)\n",
        "data[\"No_of_Words\"]=data.apply(lambda row: nltk.word_tokenize(row[\"Message\"]), axis=1).apply(len)\n",
        "data[\"No_of_sentence\"]=data.apply(lambda row: nltk.sent_tokenize(row[\"Message\"]), axis=1).apply(len)\n",
        "\n",
        "data.describe().T"
      ]
    },
    {
      "cell_type": "markdown",
      "metadata": {
        "id": "WdX1lPIV8C0Z"
      },
      "source": [
        "<a id=\"4\"></a>\n",
        "# <p style=\"background-color:#00008B;font-family:newtimeroman;color:#D8BFD8;font-size:150%;text-align:center;border-radius:20px 60px;\">DATA PREPROCESSING</p>\n"
      ]
    },
    {
      "cell_type": "code",
      "execution_count": null,
      "metadata": {
        "colab": {
          "base_uri": "https://localhost:8080/"
        },
        "id": "VQgBlAso8C0a",
        "outputId": "727e7dc0-07d3-46e1-ff68-e3fd0a45c8cc"
      },
      "outputs": [
        {
          "output_type": "stream",
          "name": "stdout",
          "text": [
            "\u001b[1m\u001b[38;5;105m The First 10 Texts:\u001b[0m\n",
            "K...k:)why cant you come here and search job:)\n",
            "RGENT! This is the 2nd attempt to contact U!U have WON £1250 CALL 09071512433 b4 050703 T&CsBCM4235WC1N3XX. callcost 150ppm mobilesvary. max£7. 50\n",
            "Hey elaine, is today's meeting still on?\n",
            "Which is why i never wanted to tell you any of this. Which is why i'm so short with you and on-edge as of late.\n",
            "Can you pls pls send me a mail on all you know about relatives coming to deliver here? All you know about costs, risks, benefits and anything else. Thanks.\n",
            "Congratulations! Thanks to a good friend U have WON the £2,000 Xmas prize. 2 claim is easy, just call 08718726978 NOW! Only 10p per minute. BT-national-rate\n",
            "FREE for 1st week! No1 Nokia tone 4 ur mobile every week just txt NOKIA to 8077 Get txting and tell ur mates. www.getzed.co.uk POBox 36504 W45WQ 16+ norm150p/tone\n",
            "Panasonic & BluetoothHdset FREE. Nokia FREE. Motorola FREE & DoubleMins & DoubleTxt on Orange contract. Call MobileUpd8 on 08000839402 or call 2optout\n",
            "In meeting da. I will call you\n",
            "Yes..he is really great..bhaji told kallis best cricketer after sachin in world:).very tough to get out.\n"
          ]
        }
      ],
      "source": [
        "#Lets have a look at a sample of texts before cleaning\n",
        "print(\"\\033[1m\\u001b[38;5;105m The First 10 Texts:\\033[0m\", *data[\"Message\"][:10], sep = \"\\n\")"
      ]
    },
    {
      "cell_type": "markdown",
      "metadata": {
        "id": "cpSwXsLT8C0c"
      },
      "source": [
        "<a id=\"4.1\"></a>\n",
        "# <p style=\"background-color:#D8BFD8;font-family:newtimeroman;color:#00008B;text-align:center;font-size:120%;border-radius:20px 60px;\">CLEANING TEXT</p>\n",
        "\n",
        "The data cleaning process in NLP is crucial. The computer doesn't understand text; to it, it's just a set of symbols. To process the data, it needs to be cleaned up.\n",
        "\n",
        "* First, we extract only the alphabetic characters, which eliminates punctuation and numbers.\n",
        "* Then, we convert SMS abbreviations and emoticons into their textual equivalents (for example, \"u\" becomes \"you\" and \":)\" becomes \"smile\").\n",
        "* Afterward, all characters are converted to lowercase.\n",
        "\n",
        "This cleaned text will then be used for the subsequent processing steps."
      ]
    },
    {
      "cell_type": "code",
      "execution_count": null,
      "metadata": {
        "id": "6vZWRNn28C0d"
      },
      "outputs": [],
      "source": [
        "import re\n",
        "\n",
        "# Dictionnaires pour les abréviations MSG et les émoticônes\n",
        "sms_dict = {\n",
        "    \"u\": \"you\", \"ur\": \"your\", \"r\": \"are\", \"n\": \"and\", \"y\": \"why\",\n",
        "    \"wat\": \"what\", \"wanna\": \"want to\", \"gonna\": \"going to\", \"2\": \"to\",\n",
        "    \"4\": \"for\", \"b\": \"be\", \"da\": \"the\", \"txt\": \"text\", \"k\": \"ok\",\n",
        "    \"msgs\": \"messages\", \"msg\": \"message\", \"pls\": \"please\", \"plz\": \"please\",\n",
        "    \"c\": \"see\", \"omg\": \"oh my god\", \"lol\": \"laughing out loud\", \"btw\": \"by the way\",\n",
        "    \"2day\": \"today\", \"2moro\": \"tomorrow\",\"tmr\":\"tomorrow\", \"afaik\": \"as far as I know\",\n",
        "    \"asap\": \"as soon as possible\", \"b4\": \"before\", \"bff\": \"best friends forever\",\n",
        "    \"brb\": \"be right back\", \"cu\": \"see you\", \"diy\": \"do it yourself\",\n",
        "    \"dm\": \"direct message\", \"f2f\": \"face to face\", \"fyi\": \"for your information\",\n",
        "    \"gg\": \"good game\", \"gl\": \"good luck\", \"gr8\": \"great\", \"gtg\": \"got to go\",\n",
        "    \"idk\": \"I don’t know\", \"ily\": \"I love you\", \"imo\": \"in my opinion\",\n",
        "    \"irl\": \"in real life\", \"jk\": \"just kidding\", \"l8r\": \"later\", \"lmao\": \"laughing my ass off\",\n",
        "    \"lmk\": \"let me know\", \"nvm\": \"never mind\", \"rofl\": \"rolling on the floor laughing\",\n",
        "    \"sfw\": \"safe for work\", \"smh\": \"shaking my head\", \"thx\": \"thanks\",\n",
        "    \"ttyl\": \"talk to you later\", \"yolo\": \"you only live once\"\n",
        "}\n",
        "\n",
        "emoticon_dict = {\n",
        "    \":)\": \"smile\", \":-)\": \"smile\", \":(\": \"sad\", \":-(\": \"sad\",\n",
        "    \":D\": \"laugh\", \":-D\": \"laugh\", \";)\": \"wink\", \";-)\": \"wink\",\n",
        "    \":'(\": \"cry\", \":-/\": \"skeptical\", \":P\": \"playful\", \":-P\": \"playful\"\n",
        "}\n",
        "\n",
        "\n",
        "def clean_and_replace(text):\n",
        "\n",
        "     #1. Remplacer les émoticônes et ajouter des espaces autour\n",
        "    for emoticon, meaning in emoticon_dict.items():\n",
        "        text = re.sub(rf'(?<=\\S){re.escape(emoticon)}(?=\\S)', f' {meaning} ', text)\n",
        "        text = re.sub(re.escape(emoticon), f' {meaning} ', text)\n",
        "\n",
        "    # 2. Enlever les caractères spéciaux et mettre en minuscules\n",
        "    text = re.sub(r'\\W', ' ', text)  # Remplace les caractères non alphabétiques par des espaces\n",
        "    text = text.lower()  # Met en minuscules\n",
        "\n",
        "    # 3. Supprimer les URLs\n",
        "    text = re.sub(r'http\\S+|www.\\S+', '', text)\n",
        "\n",
        "    # 4. Supprimer les numéros de téléphone\n",
        "    text = re.sub(r'\\d{10}|\\d{11}|\\d{3}-\\d{3}-\\d{4}', '', text)\n",
        "\n",
        "\n",
        "    # 5. Supprimer les symboles monétaires et montants\n",
        "    text = re.sub(r'£\\d+(?:\\.\\d{2})?|\\$\\d+(?:\\.\\d{2})?', '', text)\n",
        "\n",
        "    # 6. Supprimer les caractères spéciaux mais garder les apostrophes\n",
        "    text = re.sub(r'[^a-zA-Z\\'\\s]', ' ', text)\n",
        "\n",
        "    # 7. Supprimer les espaces supplémentaires\n",
        "    text = ' '.join(text.split())\n",
        "\n",
        "    # 8. Remplacer les abréviations MSG\n",
        "    words = text.split()\n",
        "    words = [sms_dict.get(word.lower(), word) for word in words]\n",
        "    text = ' '.join(words)\n",
        "\n",
        "    return ' '.join(text.split())\n"
      ]
    },
    {
      "cell_type": "code",
      "execution_count": null,
      "metadata": {
        "colab": {
          "base_uri": "https://localhost:8080/"
        },
        "id": "P1I0LhHq8C0d",
        "outputId": "4d2ce6a1-14c3-4e8e-b55d-4cf8b1337f3d"
      },
      "outputs": [
        {
          "output_type": "stream",
          "name": "stdout",
          "text": [
            "\u001b[1m\u001b[38;5;105m The First 10 after Tokenizing:\u001b[0m\n",
            "ok ok smile why cant you come here and search job smile\n",
            "rgent this is the nd attempt to contact you you have won call be t csbcm wc and xx callcost ppm mobilesvary max\n",
            "hey elaine is today s meeting still on\n",
            "which is why i never wanted to tell you any of this which is why i m so short with you and on edge as of late\n",
            "can you please please send me a mail on all you know about relatives coming to deliver here all you know about costs risks benefits and anything else thanks\n",
            "congratulations thanks to a good friend you have won the xmas prize claim is easy just call now only p per minute bt national rate\n",
            "free for st week no nokia tone your mobile every week just text nokia to get txting and tell your mates co uk pobox w wq norm p tone\n",
            "panasonic bluetoothhdset free nokia free motorola free doublemins doubletxt on orange contract call mobileupd on or call optout\n",
            "in meeting the i will call you\n",
            "yes he is really great bhaji told kallis best cricketer after sachin in world smile very tough to get out\n"
          ]
        }
      ],
      "source": [
        "# Application de la fonction de preprocessing sur chaque message\n",
        "data['clean_msg'] = data['Message'].apply(clean_and_replace)\n",
        "print(\"\\033[1m\\u001b[38;5;105m The First 10 after Tokenizing:\\033[0m\",*data[\"clean_msg\"][:10], sep = \"\\n\")\n"
      ]
    },
    {
      "cell_type": "markdown",
      "metadata": {
        "id": "oz5gYte88C0e"
      },
      "source": [
        "<a id=\"4.2\"></a>\n",
        "# <p style=\"background-color:#D8BFD8;font-family:newtimeroman;color:#00008B;text-align:center;font-size:80%;border-radius:20px 60px;\">TOKENIZATION</p>\n",
        "\n",
        "**Tokenization** is the process of breaking down complex data into smaller units called \"tokens\". This can be done by splitting paragraphs into sentences and sentences into words.\n",
        "\n",
        "In this step, I am splitting the cleaned text into words."
      ]
    },
    {
      "cell_type": "code",
      "execution_count": null,
      "metadata": {
        "colab": {
          "base_uri": "https://localhost:8080/"
        },
        "id": "8dTkj_hn8C0e",
        "outputId": "b2bd97d3-754c-465f-86a9-af12c429f787"
      },
      "outputs": [
        {
          "output_type": "stream",
          "name": "stdout",
          "text": [
            "\u001b[1m\u001b[38;5;105m The First 10 after Tokenizing:\u001b[0m\n",
            "['ok', 'ok', 'smile', 'why', 'cant', 'you', 'come', 'here', 'and', 'search', 'job', 'smile']\n",
            "['rgent', 'this', 'is', 'the', 'nd', 'attempt', 'to', 'contact', 'you', 'you', 'have', 'won', 'call', 'be', 't', 'csbcm', 'wc', 'and', 'xx', 'callcost', 'ppm', 'mobilesvary', 'max']\n",
            "['hey', 'elaine', 'is', 'today', 's', 'meeting', 'still', 'on']\n",
            "['which', 'is', 'why', 'i', 'never', 'wanted', 'to', 'tell', 'you', 'any', 'of', 'this', 'which', 'is', 'why', 'i', 'm', 'so', 'short', 'with', 'you', 'and', 'on', 'edge', 'as', 'of', 'late']\n",
            "['can', 'you', 'please', 'please', 'send', 'me', 'a', 'mail', 'on', 'all', 'you', 'know', 'about', 'relatives', 'coming', 'to', 'deliver', 'here', 'all', 'you', 'know', 'about', 'costs', 'risks', 'benefits', 'and', 'anything', 'else', 'thanks']\n",
            "['congratulations', 'thanks', 'to', 'a', 'good', 'friend', 'you', 'have', 'won', 'the', 'xmas', 'prize', 'claim', 'is', 'easy', 'just', 'call', 'now', 'only', 'p', 'per', 'minute', 'bt', 'national', 'rate']\n",
            "['free', 'for', 'st', 'week', 'no', 'nokia', 'tone', 'your', 'mobile', 'every', 'week', 'just', 'text', 'nokia', 'to', 'get', 'txting', 'and', 'tell', 'your', 'mates', 'co', 'uk', 'pobox', 'w', 'wq', 'norm', 'p', 'tone']\n",
            "['panasonic', 'bluetoothhdset', 'free', 'nokia', 'free', 'motorola', 'free', 'doublemins', 'doubletxt', 'on', 'orange', 'contract', 'call', 'mobileupd', 'on', 'or', 'call', 'optout']\n",
            "['in', 'meeting', 'the', 'i', 'will', 'call', 'you']\n",
            "['yes', 'he', 'is', 'really', 'great', 'bhaji', 'told', 'kallis', 'best', 'cricketer', 'after', 'sachin', 'in', 'world', 'smile', 'very', 'tough', 'to', 'get', 'out']\n"
          ]
        }
      ],
      "source": [
        "def tokenize_text(text):\n",
        "    # Tokenization du texte\n",
        "    tokens = word_tokenize(text)\n",
        "    return tokens\n",
        "\n",
        "data[\"Tokenize_Text\"]=data.apply(lambda row: nltk.word_tokenize(row[\"clean_msg\"]), axis=1)\n",
        "print(\"\\033[1m\\u001b[38;5;105m The First 10 after Tokenizing:\\033[0m\",*data[\"Tokenize_Text\"][:10], sep = \"\\n\")"
      ]
    },
    {
      "cell_type": "markdown",
      "metadata": {
        "id": "qtFI6rKn8C0f"
      },
      "source": [
        "<a id=\"4.3\"></a>\n",
        "# <p style=\"background-color:#D8BFD8;font-family:newtimeroman;color:#00008B;text-align:center;font-size:80%;border-radius:20px 60px;\">REMOVING STOPWORDS</p>\n",
        "\n",
        "**Stopwords** are frequently occurring words(*such as few, is, an, etc*). These words hold meaning in sentence structure, but do not contribute much to language processing in NLP. For the purpose of removing redundancy in our processing, I am removing those. NLTK library has a set of default stopwords that we will be removing."
      ]
    },
    {
      "cell_type": "code",
      "execution_count": null,
      "metadata": {
        "colab": {
          "base_uri": "https://localhost:8080/"
        },
        "id": "wkSM9t1K8C0f",
        "outputId": "14c4c4c2-6e04-4269-bbc1-8b6c862330fc"
      },
      "outputs": [
        {
          "output_type": "stream",
          "name": "stdout",
          "text": [
            "\u001b[1m\u001b[38;5;105m The First 10 after removing the stopwords:\u001b[0m\n",
            "['ok', 'ok', 'smile', 'cant', 'come', 'search', 'job', 'smile']\n",
            "['rgent', 'nd', 'attempt', 'contact', 'call', 'csbcm', 'wc', 'xx', 'callcost', 'ppm', 'mobilesvary', 'max']\n",
            "['hey', 'elaine', 'today', 'meeting', 'still']\n",
            "['never', 'wanted', 'tell', 'short', 'edge', 'late']\n",
            "['please', 'please', 'send', 'mail', 'know', 'relatives', 'coming', 'deliver', 'know', 'costs', 'risks', 'benefits', 'anything', 'else', 'thanks']\n"
          ]
        }
      ],
      "source": [
        "\n",
        "def remove_stopwords(tokens):\n",
        "    stop_words = set(stopwords.words('english'))  # Changez \"english\" pour une autre langue si nécessaire\n",
        "    tokens = [token for token in tokens if token not in stop_words]\n",
        "    return tokens\n",
        "\n",
        "data[\"Nostopword_Text\"] = data[\"Tokenize_Text\"].apply(remove_stopwords)\n",
        "print(\"\\033[1m\\u001b[38;5;105m The First 10 after removing the stopwords:\\033[0m\",*data[\"Nostopword_Text\"][:5], sep = \"\\n\")"
      ]
    },
    {
      "cell_type": "code",
      "execution_count": null,
      "metadata": {
        "colab": {
          "base_uri": "https://localhost:8080/"
        },
        "id": "gpTxFvwQ8C0f",
        "outputId": "efa8e8c7-f79d-4c92-db42-dc376a451ff3"
      },
      "outputs": [
        {
          "output_type": "stream",
          "name": "stdout",
          "text": [
            "\u001b[1m\u001b[45;1m The First 5 Texts after lemitization:\u001b[0m\n",
            "['ok', 'ok', 'smile', 'cant', 'come', 'search', 'job', 'smile']\n",
            "['rgent', 'nd', 'attempt', 'contact', 'call', 'csbcm', 'wc', 'xx', 'callcost', 'ppm', 'mobilesvary', 'max']\n",
            "['hey', 'elaine', 'today', 'meet', 'still']\n",
            "['never', 'want', 'tell', 'short', 'edge', 'late']\n",
            "['please', 'please', 'send', 'mail', 'know', 'relatives', 'come', 'deliver', 'know', 'cost', 'risk', 'benefit', 'anything', 'else', 'thank']\n"
          ]
        }
      ],
      "source": [
        "lemmatizer = WordNetLemmatizer()\n",
        "\n",
        "# Lemmatization function\n",
        "def lemmatize_word(text):\n",
        "    # Lemmatize each word, here we use 'v' (verb) as the POS tag, but you can adjust it for other cases\n",
        "    lemmas = [lemmatizer.lemmatize(word, pos='v') for word in text]\n",
        "    return lemmas\n",
        "\n",
        "\n",
        "\n",
        "data[\"Lemmatized_Text\"] = data[\"Nostopword_Text\"].apply(lemmatize_word)\n",
        "print(\"\\033[1m\\u001b[45;1m The First 5 Texts after lemitization:\\033[0m\",*data[\"Lemmatized_Text\"][:5], sep = \"\\n\")"
      ]
    },
    {
      "cell_type": "markdown",
      "metadata": {
        "id": "6GryBeKx8C0f"
      },
      "source": [
        "<a id=\"4.1\"></a>\n",
        "# <p style=\"background-color:#D8BFD8;font-family:newtimeroman;color:#00008B;text-align:center;font-size:120%;border-radius:20px 60px;\">TEXT  PREPROCESSING  PIPELINE</p>"
      ]
    },
    {
      "cell_type": "code",
      "execution_count": null,
      "metadata": {
        "id": "WUSzwT2T8C0f"
      },
      "outputs": [],
      "source": [
        "import pandas as pd\n",
        "from sklearn.base import BaseEstimator, TransformerMixin\n",
        "from sklearn.pipeline import Pipeline\n",
        "\n",
        "def preprocess_text(text):\n",
        "    text = clean_and_replace(text)\n",
        "    tokens = tokenize_text(text)\n",
        "    tokens = remove_stopwords(tokens)\n",
        "    lemmas = lemmatize_word(tokens)\n",
        "    return lemmas\n",
        "# Custom Transformer for the entire preprocessing function\n",
        "class TextPreprocessor(BaseEstimator, TransformerMixin):\n",
        "    def __init__(self, preprocess_func):\n",
        "        self.preprocess_func = preprocess_func\n",
        "\n",
        "    def fit(self, X, y=None):\n",
        "        return self\n",
        "\n",
        "    def transform(self, X):\n",
        "        return X.apply(self.preprocess_func)\n",
        "\n",
        "# Define the pipeline using your `preprocess_text` function\n",
        "preprocessing_pipeline = Pipeline([\n",
        "    ('preprocessor', TextPreprocessor(preprocess_text))\n",
        "])\n",
        "\n",
        "\n"
      ]
    },
    {
      "cell_type": "code",
      "execution_count": null,
      "metadata": {
        "colab": {
          "base_uri": "https://localhost:8080/"
        },
        "id": "Gzgkbp9G8C0g",
        "outputId": "a38be16e-3e1e-4720-f440-1f9c4a577f23"
      },
      "outputs": [
        {
          "output_type": "stream",
          "name": "stdout",
          "text": [
            "                                             Message  \\\n",
            "0     K...k:)why cant you come here and search job:)   \n",
            "1  RGENT! This is the 2nd attempt to contact U!U ...   \n",
            "2           Hey elaine, is today's meeting still on?   \n",
            "3  Which is why i never wanted to tell you any of...   \n",
            "4  Can you pls pls send me a mail on all you know...   \n",
            "\n",
            "                                preprocessed_message  \n",
            "0    [ok, ok, smile, cant, come, search, job, smile]  \n",
            "1  [rgent, nd, attempt, contact, call, csbcm, wc,...  \n",
            "2                  [hey, elaine, today, meet, still]  \n",
            "3             [never, want, tell, short, edge, late]  \n",
            "4  [please, please, send, mail, know, relatives, ...  \n"
          ]
        }
      ],
      "source": [
        "# Appliquer le pipeline à la colonne 'Message' du dataset\n",
        "\n",
        "data['preprocessed_message'] = preprocessing_pipeline.fit_transform(data['Message'])\n",
        "\n",
        "\n",
        "# Afficher les premières lignes du dataset avec les messages prétraités\n",
        "print(data[['Message', 'preprocessed_message']].head())"
      ]
    },
    {
      "cell_type": "markdown",
      "metadata": {
        "id": "E0TRHdMx8C0g"
      },
      "source": [
        "<a id=\"5\"></a>\n",
        "# <p style=\"background-color:#D8BFD8;font-family:newtimeroman;font-size:150%;color:#00008B;text-align:center;border-radius:20px 60px;\">VECTORIZE</p>\n",
        "\n",
        "**TF-IDF** in NLP stands for Term Frequency – Inverse document frequency. In NLP cleaned data needs to be converted into a numerical format where each word is represented by a matrix. This is also known as word embedding or Word vectorization.\n",
        "\n",
        "Term Frequency (TF) = (Frequency of a term in the document)/(Total number of terms in documents)\n",
        "Inverse Document Frequency(IDF) = log( (total number of documents)/(number of documents with term t))\n",
        "I will be using TfidfVectorizer() to vectorize the preprocessed data.\n",
        "\n",
        "**Steps in the Vectorizing:**\n",
        "* Creating a corpus of lemmatized text\n",
        "* Converting the corpus in vector form\n",
        "* Label Encoding the classes in Target\n",
        "\n",
        "*Note: So far we have been stalking up columns in our data for the purpose of explanation*"
      ]
    },
    {
      "cell_type": "code",
      "execution_count": null,
      "metadata": {
        "colab": {
          "base_uri": "https://localhost:8080/"
        },
        "id": "8o3tmMYA8C0g",
        "outputId": "e77998d3-3410-4f7e-d000-a3c577afe83a"
      },
      "outputs": [
        {
          "output_type": "stream",
          "name": "stdout",
          "text": [
            "\u001b[1m\u001b[45;1m The First 5 lines in corpus :\u001b[0m\n",
            "ok ok smile cant come search job smile\n",
            "rgent nd attempt contact call csbcm wc xx callcost ppm mobilesvary max\n",
            "hey elaine today meet still\n",
            "never want tell short edge late\n",
            "please please send mail know relatives come deliver know cost risk benefit anything else thank\n"
          ]
        }
      ],
      "source": [
        "#Creating a corpus of text feature to encode further into vectorized form\n",
        "corpus= []\n",
        "for i in data[\"preprocessed_message\"]: # Changed column name to 'preprocessed_message'\n",
        "    msg = ' '.join([row for row in i])\n",
        "    corpus.append(msg)\n",
        "\n",
        "corpus[:5]\n",
        "print(\"\\033[1m\\u001b[45;1m The First 5 lines in corpus :\\033[0m\",*corpus[:5], sep = \"\\n\")"
      ]
    },
    {
      "cell_type": "code",
      "execution_count": null,
      "metadata": {
        "id": "HGECSXfy8C0g",
        "outputId": "1bf6f535-dac6-459a-bbf3-406bea203bc2",
        "colab": {
          "base_uri": "https://localhost:8080/"
        }
      },
      "outputs": [
        {
          "output_type": "execute_result",
          "data": {
            "text/plain": [
              "dtype('float64')"
            ]
          },
          "metadata": {},
          "execution_count": 52
        }
      ],
      "source": [
        "#Changing text data in to numbers.\n",
        "tfidf = TfidfVectorizer()\n",
        "X = tfidf.fit_transform(corpus).toarray()\n",
        "#Let's have a look at our feature\n",
        "X.dtype"
      ]
    },
    {
      "cell_type": "code",
      "execution_count": null,
      "metadata": {
        "id": "Z3uZtjTy8C0g"
      },
      "outputs": [],
      "source": [
        "#Label encode the Target and use it as y\n",
        "label_encoder = LabelEncoder()\n",
        "data[\"label\"] = label_encoder.fit_transform(data[\"label\"])\n",
        "y=data[\"label\"]"
      ]
    },
    {
      "cell_type": "markdown",
      "metadata": {
        "id": "biawvdyB8C0h"
      },
      "source": [
        "<a id=\"6\"></a>\n",
        "# <p style=\"background-color:#D8BFD8;font-family:newtimeroman;font-size:150%;color:#00008B;text-align:center;border-radius:20px 60px;\"> MODEL BUILDING</p>\n",
        "\n",
        "**Steps involved in the Model Building**\n",
        "* Setting up features and target as X and y\n",
        "* Splitting the testing and training sets\n",
        "* Model : the Multinomial Naive Bayes (MultinomialNB).\n",
        "* Fit all the models on training data\n",
        "* Get the cross-validation on the training set for  model for accuracy"
      ]
    },
    {
      "cell_type": "code",
      "execution_count": null,
      "metadata": {
        "id": "HJRNBRAI8C0h"
      },
      "outputs": [],
      "source": [
        "X_train, X_test, y_train, y_test=train_test_split(X, y ,test_size=0.2,random_state=42)"
      ]
    },
    {
      "cell_type": "code",
      "execution_count": null,
      "metadata": {
        "id": "1w_1-vyd8C0i",
        "outputId": "c0f1225e-b69c-41a9-a553-f9862cee3f4d",
        "colab": {
          "base_uri": "https://localhost:8080/",
          "height": 807
        }
      },
      "outputs": [
        {
          "output_type": "stream",
          "name": "stdout",
          "text": [
            "Naive Bayes Accuracy: 0.98\n",
            "-----------------------------------------------------\n",
            "              precision    recall  f1-score   support\n",
            "\n",
            "           0       0.97      0.99      0.98       422\n",
            "           1       0.99      0.97      0.98       475\n",
            "\n",
            "    accuracy                           0.98       897\n",
            "   macro avg       0.98      0.98      0.98       897\n",
            "weighted avg       0.98      0.98      0.98       897\n",
            "\n",
            "\n",
            "Best Model:\n",
            "Naive Bayes with Accuracy: 0.98\n"
          ]
        },
        {
          "output_type": "display_data",
          "data": {
            "text/plain": [
              "<Figure size 800x600 with 2 Axes>"
            ],
            "image/png": "[encoded data removed]"
          },
          "metadata": {}
        }
      ],
      "source": [
        "import seaborn as sns\n",
        "import matplotlib.pyplot as plt\n",
        "from sklearn.metrics import accuracy_score, classification_report, confusion_matrix\n",
        "from sklearn.naive_bayes import MultinomialNB\n",
        "\n",
        "model = MultinomialNB()\n",
        "\n",
        "model.fit(X_train, y_train)\n",
        "\n",
        "y_pred = model.predict(X_test)\n",
        "\n",
        "accuracy = accuracy_score(y_test, y_pred)\n",
        "print(f\"Naive Bayes Accuracy: {accuracy:.2f}\")\n",
        "print(\"-----------------------------------------------------\")\n",
        "print(classification_report(y_test, y_pred))\n",
        "\n",
        "print(\"\\nBest Model:\")\n",
        "print(f\"Naive Bayes with Accuracy: {accuracy:.2f}\")\n",
        "\n",
        "conf_matrix = confusion_matrix(y_test, y_pred)\n",
        "\n",
        "plt.figure(figsize=(8, 6))\n",
        "sns.heatmap(conf_matrix, annot=True, fmt=\"d\", cmap=\"Blues\", xticklabels=model.classes_, yticklabels=model.classes_)\n",
        "plt.title('Confusion Matrix Heatmap')\n",
        "plt.xlabel('Predicted Labels')\n",
        "plt.ylabel('True Labels')\n",
        "plt.show()\n"
      ]
    },
    {
      "cell_type": "code",
      "execution_count": null,
      "metadata": {
        "id": "xusxhXqt8C0i",
        "outputId": "830aaedd-c39f-4a94-ab35-66b9c5d179b6",
        "colab": {
          "base_uri": "https://localhost:8080/",
          "height": 571
        }
      },
      "outputs": [
        {
          "output_type": "display_data",
          "data": {
            "text/plain": [
              "<Figure size 800x600 with 1 Axes>"
            ],
            "image/png": "[encoded data removed]"
          },
          "metadata": {}
        }
      ],
      "source": [
        "import matplotlib.pyplot as plt\n",
        "\n",
        "\n",
        "colors = ['#D8BFD8']\n",
        "\n",
        "# Create a dictionary with the model name and accuracy\n",
        "best_results = {\"Naive Bayes\": accuracy}\n",
        "\n",
        "# Plotting the accuracy\n",
        "plt.figure(figsize=(8, 6))\n",
        "bars = plt.bar(best_results.keys(), best_results.values(), color=colors)\n",
        "plt.title('Model Accuracy', fontsize=16, fontweight='bold')\n",
        "plt.xlabel('Model', fontsize=14)\n",
        "plt.ylabel('Accuracy', fontsize=14)\n",
        "plt.ylim(0.9, 1.0)  # You can adjust this range as needed\n",
        "\n",
        "# Add value labels on top of bars\n",
        "for bar in bars:\n",
        "    height = bar.get_height()\n",
        "    plt.text(bar.get_x() + bar.get_width() / 2, height + 0.01, f'{height:.2f}',\n",
        "             ha='center', va='bottom', fontsize=12, fontweight='bold')\n",
        "\n",
        "plt.grid(axis='y', linestyle='--', alpha=0.7)\n",
        "plt.show()\n"
      ]
    }
  ],
  "metadata": {
    "colab": {
      "provenance": []
    },
    "kaggle": {
      "accelerator": "none",
      "dataSources": [
        {
          "datasetId": 6080134,
          "sourceId": 9898310,
          "sourceType": "datasetVersion"
        }
      ],
      "dockerImageVersionId": 30786,
      "isGpuEnabled": false,
      "isInternetEnabled": true,
      "language": "python",
      "sourceType": "notebook"
    },
    "kernelspec": {
      "display_name": "Python 3",
      "language": "python",
      "name": "python3"
    },
    "language_info": {
      "codemirror_mode": {
        "name": "ipython",
        "version": 3
      },
      "file_extension": ".py",
      "mimetype": "text/x-python",
      "name": "python",
      "nbconvert_exporter": "python",
      "pygments_lexer": "ipython3",
      "version": "3.10.14"
    }
  },
  "nbformat": 4,
  "nbformat_minor": 0
}